{
  "nbformat": 4,
  "nbformat_minor": 0,
  "metadata": {
    "colab": {
      "name": "01-SamplingTheorem.ipynb",
      "provenance": [],
      "collapsed_sections": [],
      "authorship_tag": "ABX9TyNLuhbBcftzliLoLOWBc4P3",
      "include_colab_link": true
    },
    "kernelspec": {
      "name": "python3",
      "display_name": "Python 3"
    }
  },
  "cells": [
    {
      "cell_type": "markdown",
      "metadata": {
        "id": "view-in-github",
        "colab_type": "text"
      },
      "source": [
        "<a href=\"https://colab.research.google.com/github/danielpy108/DigitalSignalProcessing/blob/master/01_SamplingTheorem.ipynb\" target=\"_parent\"><img src=\"https://colab.research.google.com/assets/colab-badge.svg\" alt=\"Open In Colab\"/></a>"
      ]
    },
    {
      "cell_type": "markdown",
      "metadata": {
        "id": "S39161PjGbAp",
        "colab_type": "text"
      },
      "source": [
        "# Sampling Theorem\n",
        "\n",
        "A signal is the description/representation of how a natural or artificial phenomenom evolves over time or space. Examples:\n",
        "\n",
        "<table>\n",
        "    <thead>\n",
        "        <tr>\n",
        "            <th> Phenomenom </th>\n",
        "            <th> Signal </th>\n",
        "        </tr>\n",
        "    </thead>\n",
        "    <tbody>\n",
        "        <tr>\n",
        "            <th> Weather </th>\n",
        "            <th> Temperature/Humidity </th>\n",
        "        </tr>\n",
        "        <tr>\n",
        "            <th> Air </th>\n",
        "            <th> Sound </th>\n",
        "        </tr>\n",
        "        <tr>\n",
        "            <th> Electricity </th>\n",
        "            <th> Voltage/Current </th>\n",
        "        </tr>\n",
        "        <tr>\n",
        "            <th> Light intensity </th>\n",
        "            <th> Gray level </th>\n",
        "        </tr>\n",
        "    </tbody>\n",
        "</table>\n",
        "\n",
        "Since a _continous time_ signal has infinite values over a given interval [a, b], it must be discretized for:\n",
        "\n",
        "* Time\n",
        "* Amplitude\n",
        "\n",
        "## Joseph Nyquist and Claude Shannon - Discretizing time\n",
        "\n",
        "Both Nyquist and Shannon helped to introduce the __Sampling theorem__ that states a continuous time signal must be _sampled_ at least:\n",
        "\n",
        "PLACEHOLDER\n",
        "\n",
        "To reconstruct the original signal:\n",
        "\n",
        "$$ x(t) = \\sum_{-\\infty}^{\\infty}{x[n]sinc(\\frac{t-nT_s}{T_s})} $$\n",
        "\n",
        "Which states that if we make a linear combination of the sinc signal shifted and scaled by a factor of $x[n]$, then we get the original sampled signal $x(t)$.\n",
        "\n",
        "## Discretizing Amplitude\n",
        "\n",
        "\n",
        "\n",
        "## Channel Transmission\n",
        "\n",
        "\n"
      ]
    },
    {
      "cell_type": "code",
      "metadata": {
        "id": "yY_NJ2BzGRrM",
        "colab_type": "code",
        "colab": {}
      },
      "source": [
        "import numpy as np\n",
        "import plotly.graph_objects as go"
      ],
      "execution_count": 0,
      "outputs": []
    },
    {
      "cell_type": "code",
      "metadata": {
        "id": "zvjNC67HGW3s",
        "colab_type": "code",
        "colab": {
          "base_uri": "https://localhost:8080/",
          "height": 542
        },
        "outputId": "8036f9e0-64a7-456e-f9eb-afee72e44700"
      },
      "source": [
        "# Parameters\n",
        "A = 1\n",
        "f = 1\n",
        "phi = 0\n",
        "samples = 100\n",
        "T = 1/f\n",
        "# Time\n",
        "t = np.linspace(0, 3*T, samples)\n",
        "\n",
        "xt = A*np.sin(2*np.pi*f*t + phi)\n",
        "\n",
        "\n",
        "\n",
        "fig = go.Figure(\n",
        "    data = go.Scatter(\n",
        "        x = t, \n",
        "        y = xt\n",
        "    )\n",
        ")\n",
        "\n",
        "fig.update_layout(title='Continuous Time Signal',\n",
        "                  yaxis_title=\"Amplitude\",\n",
        "                  xaxis_title=\"Time (s)\")\n",
        "\n",
        "\n",
        "fig.show()"
      ],
      "execution_count": 8,
      "outputs": [
        {
          "output_type": "display_data",
          "data": {
            "text/html": [
              "<html>\n",
              "<head><meta charset=\"utf-8\" /></head>\n",
              "<body>\n",
              "    <div>\n",
              "            <script src=\"https://cdnjs.cloudflare.com/ajax/libs/mathjax/2.7.5/MathJax.js?config=TeX-AMS-MML_SVG\"></script><script type=\"text/javascript\">if (window.MathJax) {MathJax.Hub.Config({SVG: {font: \"STIX-Web\"}});}</script>\n",
              "                <script type=\"text/javascript\">window.PlotlyConfig = {MathJaxConfig: 'local'};</script>\n",
              "        <script src=\"https://cdn.plot.ly/plotly-latest.min.js\"></script>    \n",
              "            <div id=\"8bd26302-348e-49f7-a801-91c6b48b89c2\" class=\"plotly-graph-div\" style=\"height:525px; width:100%;\"></div>\n",
              "            <script type=\"text/javascript\">\n",
              "                \n",
              "                    window.PLOTLYENV=window.PLOTLYENV || {};\n",
              "                    \n",
              "                if (document.getElementById(\"8bd26302-348e-49f7-a801-91c6b48b89c2\")) {\n",
              "                    Plotly.newPlot(\n",
              "                        '8bd26302-348e-49f7-a801-91c6b48b89c2',\n",
              "                        [{\"type\": \"scatter\", \"x\": [0.0, 0.030303030303030304, 0.06060606060606061, 0.09090909090909091, 0.12121212121212122, 0.15151515151515152, 0.18181818181818182, 0.21212121212121213, 0.24242424242424243, 0.2727272727272727, 0.30303030303030304, 0.33333333333333337, 0.36363636363636365, 0.3939393939393939, 0.42424242424242425, 0.4545454545454546, 0.48484848484848486, 0.5151515151515151, 0.5454545454545454, 0.5757575757575758, 0.6060606060606061, 0.6363636363636364, 0.6666666666666667, 0.696969696969697, 0.7272727272727273, 0.7575757575757576, 0.7878787878787878, 0.8181818181818182, 0.8484848484848485, 0.8787878787878788, 0.9090909090909092, 0.9393939393939394, 0.9696969696969697, 1.0, 1.0303030303030303, 1.0606060606060606, 1.0909090909090908, 1.1212121212121213, 1.1515151515151516, 1.1818181818181819, 1.2121212121212122, 1.2424242424242424, 1.2727272727272727, 1.303030303030303, 1.3333333333333335, 1.3636363636363638, 1.393939393939394, 1.4242424242424243, 1.4545454545454546, 1.4848484848484849, 1.5151515151515151, 1.5454545454545454, 1.5757575757575757, 1.6060606060606062, 1.6363636363636365, 1.6666666666666667, 1.696969696969697, 1.7272727272727273, 1.7575757575757576, 1.7878787878787878, 1.8181818181818183, 1.8484848484848486, 1.878787878787879, 1.9090909090909092, 1.9393939393939394, 1.9696969696969697, 2.0, 2.0303030303030303, 2.0606060606060606, 2.090909090909091, 2.121212121212121, 2.1515151515151514, 2.1818181818181817, 2.2121212121212124, 2.2424242424242427, 2.272727272727273, 2.303030303030303, 2.3333333333333335, 2.3636363636363638, 2.393939393939394, 2.4242424242424243, 2.4545454545454546, 2.484848484848485, 2.515151515151515, 2.5454545454545454, 2.5757575757575757, 2.606060606060606, 2.6363636363636362, 2.666666666666667, 2.6969696969696972, 2.7272727272727275, 2.757575757575758, 2.787878787878788, 2.8181818181818183, 2.8484848484848486, 2.878787878787879, 2.909090909090909, 2.9393939393939394, 2.9696969696969697, 3.0], \"y\": [0.0, 0.1892512443604102, 0.3716624556603275, 0.5406408174555976, 0.6900790114821119, 0.8145759520503357, 0.9096319953545183, 0.9718115683235417, 0.998867339183008, 0.9898214418809328, 0.9450008187146685, 0.8660254037844385, 0.7557495743542583, 0.6181589862206055, 0.4582265217274105, 0.28173255684142967, 0.09505604330418288, -0.09505604330418263, -0.2817325568414294, -0.4582265217274107, -0.6181589862206053, -0.7557495743542582, -0.8660254037844388, -0.9450008187146683, -0.9898214418809327, -0.998867339183008, -0.9718115683235419, -0.9096319953545182, -0.8145759520503358, -0.690079011482112, -0.5406408174555974, -0.37166245566032724, -0.18925124436041063, -2.4492935982947064e-16, 0.18925124436041013, 0.3716624556603268, 0.5406408174555971, 0.6900790114821124, 0.8145759520503361, 0.9096319953545183, 0.9718115683235418, 0.998867339183008, 0.9898214418809328, 0.9450008187146686, 0.8660254037844383, 0.7557495743542582, 0.6181589862206056, 0.45822652172740996, 0.2817325568414299, 0.09505604330418356, -0.09505604330418282, -0.28173255684142917, -0.4582265217274093, -0.6181589862206051, -0.7557495743542588, -0.8660254037844387, -0.9450008187146683, -0.9898214418809328, -0.998867339183008, -0.9718115683235419, -0.9096319953545183, -0.814575952050335, -0.6900790114821116, -0.5406408174555977, -0.3716624556603283, -0.18925124436041, -4.898587196589413e-16, 0.18925124436040902, 0.3716624556603274, 0.5406408174555969, 0.6900790114821109, 0.8145759520503344, 0.9096319953545179, 0.9718115683235421, 0.9988673391830081, 0.9898214418809327, 0.945000818714668, 0.8660254037844384, 0.7557495743542584, 0.6181589862206058, 0.45822652172741013, 0.2817325568414301, 0.09505604330418381, -0.09505604330418259, -0.28173255684142895, -0.4582265217274091, -0.6181589862206048, -0.7557495743542564, -0.8660254037844395, -0.9450008187146693, -0.9898214418809328, -0.998867339183008, -0.971811568323542, -0.9096319953545184, -0.8145759520503351, -0.690079011482113, -0.5406408174555979, -0.3716624556603269, -0.18925124436041196, -7.347880794884119e-16]}],\n",
              "                        {\"template\": {\"data\": {\"bar\": [{\"error_x\": {\"color\": \"#2a3f5f\"}, \"error_y\": {\"color\": \"#2a3f5f\"}, \"marker\": {\"line\": {\"color\": \"#E5ECF6\", \"width\": 0.5}}, \"type\": \"bar\"}], \"barpolar\": [{\"marker\": {\"line\": {\"color\": \"#E5ECF6\", \"width\": 0.5}}, \"type\": \"barpolar\"}], \"carpet\": [{\"aaxis\": {\"endlinecolor\": \"#2a3f5f\", \"gridcolor\": \"white\", \"linecolor\": \"white\", \"minorgridcolor\": \"white\", \"startlinecolor\": \"#2a3f5f\"}, \"baxis\": {\"endlinecolor\": \"#2a3f5f\", \"gridcolor\": \"white\", \"linecolor\": \"white\", \"minorgridcolor\": \"white\", \"startlinecolor\": \"#2a3f5f\"}, \"type\": \"carpet\"}], \"choropleth\": [{\"colorbar\": {\"outlinewidth\": 0, \"ticks\": \"\"}, \"type\": \"choropleth\"}], \"contour\": [{\"colorbar\": {\"outlinewidth\": 0, \"ticks\": \"\"}, \"colorscale\": [[0.0, \"#0d0887\"], [0.1111111111111111, \"#46039f\"], [0.2222222222222222, \"#7201a8\"], [0.3333333333333333, \"#9c179e\"], [0.4444444444444444, \"#bd3786\"], [0.5555555555555556, \"#d8576b\"], [0.6666666666666666, \"#ed7953\"], [0.7777777777777778, \"#fb9f3a\"], [0.8888888888888888, \"#fdca26\"], [1.0, \"#f0f921\"]], \"type\": \"contour\"}], \"contourcarpet\": [{\"colorbar\": {\"outlinewidth\": 0, \"ticks\": \"\"}, \"type\": \"contourcarpet\"}], \"heatmap\": [{\"colorbar\": {\"outlinewidth\": 0, \"ticks\": \"\"}, \"colorscale\": [[0.0, \"#0d0887\"], [0.1111111111111111, \"#46039f\"], [0.2222222222222222, \"#7201a8\"], [0.3333333333333333, \"#9c179e\"], [0.4444444444444444, \"#bd3786\"], [0.5555555555555556, \"#d8576b\"], [0.6666666666666666, \"#ed7953\"], [0.7777777777777778, \"#fb9f3a\"], [0.8888888888888888, \"#fdca26\"], [1.0, \"#f0f921\"]], \"type\": \"heatmap\"}], \"heatmapgl\": [{\"colorbar\": {\"outlinewidth\": 0, \"ticks\": \"\"}, \"colorscale\": [[0.0, \"#0d0887\"], [0.1111111111111111, \"#46039f\"], [0.2222222222222222, \"#7201a8\"], [0.3333333333333333, \"#9c179e\"], [0.4444444444444444, \"#bd3786\"], [0.5555555555555556, \"#d8576b\"], [0.6666666666666666, \"#ed7953\"], [0.7777777777777778, \"#fb9f3a\"], [0.8888888888888888, \"#fdca26\"], [1.0, \"#f0f921\"]], \"type\": \"heatmapgl\"}], \"histogram\": [{\"marker\": {\"colorbar\": {\"outlinewidth\": 0, \"ticks\": \"\"}}, \"type\": \"histogram\"}], \"histogram2d\": [{\"colorbar\": {\"outlinewidth\": 0, \"ticks\": \"\"}, \"colorscale\": [[0.0, \"#0d0887\"], [0.1111111111111111, \"#46039f\"], [0.2222222222222222, \"#7201a8\"], [0.3333333333333333, \"#9c179e\"], [0.4444444444444444, \"#bd3786\"], [0.5555555555555556, \"#d8576b\"], [0.6666666666666666, \"#ed7953\"], [0.7777777777777778, \"#fb9f3a\"], [0.8888888888888888, \"#fdca26\"], [1.0, \"#f0f921\"]], \"type\": \"histogram2d\"}], \"histogram2dcontour\": [{\"colorbar\": {\"outlinewidth\": 0, \"ticks\": \"\"}, \"colorscale\": [[0.0, \"#0d0887\"], [0.1111111111111111, \"#46039f\"], [0.2222222222222222, \"#7201a8\"], [0.3333333333333333, \"#9c179e\"], [0.4444444444444444, \"#bd3786\"], [0.5555555555555556, \"#d8576b\"], [0.6666666666666666, \"#ed7953\"], [0.7777777777777778, \"#fb9f3a\"], [0.8888888888888888, \"#fdca26\"], [1.0, \"#f0f921\"]], \"type\": \"histogram2dcontour\"}], \"mesh3d\": [{\"colorbar\": {\"outlinewidth\": 0, \"ticks\": \"\"}, \"type\": \"mesh3d\"}], \"parcoords\": [{\"line\": {\"colorbar\": {\"outlinewidth\": 0, \"ticks\": \"\"}}, \"type\": \"parcoords\"}], \"pie\": [{\"automargin\": true, \"type\": \"pie\"}], \"scatter\": [{\"marker\": {\"colorbar\": {\"outlinewidth\": 0, \"ticks\": \"\"}}, \"type\": \"scatter\"}], \"scatter3d\": [{\"line\": {\"colorbar\": {\"outlinewidth\": 0, \"ticks\": \"\"}}, \"marker\": {\"colorbar\": {\"outlinewidth\": 0, \"ticks\": \"\"}}, \"type\": \"scatter3d\"}], \"scattercarpet\": [{\"marker\": {\"colorbar\": {\"outlinewidth\": 0, \"ticks\": \"\"}}, \"type\": \"scattercarpet\"}], \"scattergeo\": [{\"marker\": {\"colorbar\": {\"outlinewidth\": 0, \"ticks\": \"\"}}, \"type\": \"scattergeo\"}], \"scattergl\": [{\"marker\": {\"colorbar\": {\"outlinewidth\": 0, \"ticks\": \"\"}}, \"type\": \"scattergl\"}], \"scattermapbox\": [{\"marker\": {\"colorbar\": {\"outlinewidth\": 0, \"ticks\": \"\"}}, \"type\": \"scattermapbox\"}], \"scatterpolar\": [{\"marker\": {\"colorbar\": {\"outlinewidth\": 0, \"ticks\": \"\"}}, \"type\": \"scatterpolar\"}], \"scatterpolargl\": [{\"marker\": {\"colorbar\": {\"outlinewidth\": 0, \"ticks\": \"\"}}, \"type\": \"scatterpolargl\"}], \"scatterternary\": [{\"marker\": {\"colorbar\": {\"outlinewidth\": 0, \"ticks\": \"\"}}, \"type\": \"scatterternary\"}], \"surface\": [{\"colorbar\": {\"outlinewidth\": 0, \"ticks\": \"\"}, \"colorscale\": [[0.0, \"#0d0887\"], [0.1111111111111111, \"#46039f\"], [0.2222222222222222, \"#7201a8\"], [0.3333333333333333, \"#9c179e\"], [0.4444444444444444, \"#bd3786\"], [0.5555555555555556, \"#d8576b\"], [0.6666666666666666, \"#ed7953\"], [0.7777777777777778, \"#fb9f3a\"], [0.8888888888888888, \"#fdca26\"], [1.0, \"#f0f921\"]], \"type\": \"surface\"}], \"table\": [{\"cells\": {\"fill\": {\"color\": \"#EBF0F8\"}, \"line\": {\"color\": \"white\"}}, \"header\": {\"fill\": {\"color\": \"#C8D4E3\"}, \"line\": {\"color\": \"white\"}}, \"type\": \"table\"}]}, \"layout\": {\"annotationdefaults\": {\"arrowcolor\": \"#2a3f5f\", \"arrowhead\": 0, \"arrowwidth\": 1}, \"coloraxis\": {\"colorbar\": {\"outlinewidth\": 0, \"ticks\": \"\"}}, \"colorscale\": {\"diverging\": [[0, \"#8e0152\"], [0.1, \"#c51b7d\"], [0.2, \"#de77ae\"], [0.3, \"#f1b6da\"], [0.4, \"#fde0ef\"], [0.5, \"#f7f7f7\"], [0.6, \"#e6f5d0\"], [0.7, \"#b8e186\"], [0.8, \"#7fbc41\"], [0.9, \"#4d9221\"], [1, \"#276419\"]], \"sequential\": [[0.0, \"#0d0887\"], [0.1111111111111111, \"#46039f\"], [0.2222222222222222, \"#7201a8\"], [0.3333333333333333, \"#9c179e\"], [0.4444444444444444, \"#bd3786\"], [0.5555555555555556, \"#d8576b\"], [0.6666666666666666, \"#ed7953\"], [0.7777777777777778, \"#fb9f3a\"], [0.8888888888888888, \"#fdca26\"], [1.0, \"#f0f921\"]], \"sequentialminus\": [[0.0, \"#0d0887\"], [0.1111111111111111, \"#46039f\"], [0.2222222222222222, \"#7201a8\"], [0.3333333333333333, \"#9c179e\"], [0.4444444444444444, \"#bd3786\"], [0.5555555555555556, \"#d8576b\"], [0.6666666666666666, \"#ed7953\"], [0.7777777777777778, \"#fb9f3a\"], [0.8888888888888888, \"#fdca26\"], [1.0, \"#f0f921\"]]}, \"colorway\": [\"#636efa\", \"#EF553B\", \"#00cc96\", \"#ab63fa\", \"#FFA15A\", \"#19d3f3\", \"#FF6692\", \"#B6E880\", \"#FF97FF\", \"#FECB52\"], \"font\": {\"color\": \"#2a3f5f\"}, \"geo\": {\"bgcolor\": \"white\", \"lakecolor\": \"white\", \"landcolor\": \"#E5ECF6\", \"showlakes\": true, \"showland\": true, \"subunitcolor\": \"white\"}, \"hoverlabel\": {\"align\": \"left\"}, \"hovermode\": \"closest\", \"mapbox\": {\"style\": \"light\"}, \"paper_bgcolor\": \"white\", \"plot_bgcolor\": \"#E5ECF6\", \"polar\": {\"angularaxis\": {\"gridcolor\": \"white\", \"linecolor\": \"white\", \"ticks\": \"\"}, \"bgcolor\": \"#E5ECF6\", \"radialaxis\": {\"gridcolor\": \"white\", \"linecolor\": \"white\", \"ticks\": \"\"}}, \"scene\": {\"xaxis\": {\"backgroundcolor\": \"#E5ECF6\", \"gridcolor\": \"white\", \"gridwidth\": 2, \"linecolor\": \"white\", \"showbackground\": true, \"ticks\": \"\", \"zerolinecolor\": \"white\"}, \"yaxis\": {\"backgroundcolor\": \"#E5ECF6\", \"gridcolor\": \"white\", \"gridwidth\": 2, \"linecolor\": \"white\", \"showbackground\": true, \"ticks\": \"\", \"zerolinecolor\": \"white\"}, \"zaxis\": {\"backgroundcolor\": \"#E5ECF6\", \"gridcolor\": \"white\", \"gridwidth\": 2, \"linecolor\": \"white\", \"showbackground\": true, \"ticks\": \"\", \"zerolinecolor\": \"white\"}}, \"shapedefaults\": {\"line\": {\"color\": \"#2a3f5f\"}}, \"ternary\": {\"aaxis\": {\"gridcolor\": \"white\", \"linecolor\": \"white\", \"ticks\": \"\"}, \"baxis\": {\"gridcolor\": \"white\", \"linecolor\": \"white\", \"ticks\": \"\"}, \"bgcolor\": \"#E5ECF6\", \"caxis\": {\"gridcolor\": \"white\", \"linecolor\": \"white\", \"ticks\": \"\"}}, \"title\": {\"x\": 0.05}, \"xaxis\": {\"automargin\": true, \"gridcolor\": \"white\", \"linecolor\": \"white\", \"ticks\": \"\", \"title\": {\"standoff\": 15}, \"zerolinecolor\": \"white\", \"zerolinewidth\": 2}, \"yaxis\": {\"automargin\": true, \"gridcolor\": \"white\", \"linecolor\": \"white\", \"ticks\": \"\", \"title\": {\"standoff\": 15}, \"zerolinecolor\": \"white\", \"zerolinewidth\": 2}}}, \"title\": {\"text\": \"Continuous Time Signal\"}, \"xaxis\": {\"title\": {\"text\": \"Time (s)\"}}, \"yaxis\": {\"title\": {\"text\": \"Amplitude\"}}},\n",
              "                        {\"responsive\": true}\n",
              "                    ).then(function(){\n",
              "                            \n",
              "var gd = document.getElementById('8bd26302-348e-49f7-a801-91c6b48b89c2');\n",
              "var x = new MutationObserver(function (mutations, observer) {{\n",
              "        var display = window.getComputedStyle(gd).display;\n",
              "        if (!display || display === 'none') {{\n",
              "            console.log([gd, 'removed!']);\n",
              "            Plotly.purge(gd);\n",
              "            observer.disconnect();\n",
              "        }}\n",
              "}});\n",
              "\n",
              "// Listen for the removal of the full notebook cells\n",
              "var notebookContainer = gd.closest('#notebook-container');\n",
              "if (notebookContainer) {{\n",
              "    x.observe(notebookContainer, {childList: true});\n",
              "}}\n",
              "\n",
              "// Listen for the clearing of the current output cell\n",
              "var outputEl = gd.closest('.output');\n",
              "if (outputEl) {{\n",
              "    x.observe(outputEl, {childList: true});\n",
              "}}\n",
              "\n",
              "                        })\n",
              "                };\n",
              "                \n",
              "            </script>\n",
              "        </div>\n",
              "</body>\n",
              "</html>"
            ]
          },
          "metadata": {
            "tags": []
          }
        }
      ]
    }
  ]
}